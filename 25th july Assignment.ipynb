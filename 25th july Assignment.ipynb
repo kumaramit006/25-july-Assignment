{
 "cells": [
  {
   "cell_type": "code",
   "execution_count": 1,
   "id": "7010e1df",
   "metadata": {},
   "outputs": [
    {
     "name": "stdout",
     "output_type": "stream",
     "text": [
      "enter the characterinnomatics\n",
      "InNoMaTiCs\n"
     ]
    }
   ],
   "source": [
    "#get the even chracter in upper case using while loop\n",
    "x=input('enter the character')\n",
    "i=0\n",
    "k=''\n",
    "while i<len(x):\n",
    "    if i%2==0:\n",
    "        k=k+(x[i].upper())\n",
    "    else:\n",
    "        k=k+(x[i])\n",
    "    i=i+1\n",
    "print(k)"
   ]
  },
  {
   "cell_type": "code",
   "execution_count": 2,
   "id": "a15b413a",
   "metadata": {},
   "outputs": [
    {
     "name": "stdout",
     "output_type": "stream",
     "text": [
      "<class 'str'>\n",
      "<class 'float'>\n",
      "<class 'int'>\n",
      "<class 'str'>\n",
      "<class 'complex'>\n"
     ]
    }
   ],
   "source": [
    "x=['a',1.2,345,'amit',2+3j]\n",
    "a=0\n",
    "while a<len(x):\n",
    "    print(type(x[a]))\n",
    "    a=a+1"
   ]
  },
  {
   "cell_type": "code",
   "execution_count": 7,
   "id": "6938c23b",
   "metadata": {},
   "outputs": [
    {
     "name": "stdout",
     "output_type": "stream",
     "text": [
      "amit\n",
      "28\n"
     ]
    }
   ],
   "source": [
    "x=['a','m','1','6','8','i','t','9','4']\n",
    "a=0\n",
    "m=''\n",
    "t=0\n",
    "while i<len(x):\n",
    "    if x[a].isalpha():\n",
    "        m=m+x[a]\n",
    "    else:\n",
    "        t=t+int(x[a])\n",
    "    a=a+1\n",
    "print(k)\n",
    "print(c)"
   ]
  },
  {
   "cell_type": "code",
   "execution_count": 2,
   "id": "648d2c77",
   "metadata": {},
   "outputs": [
    {
     "name": "stdout",
     "output_type": "stream",
     "text": [
      "enter string chracteradgy546uh89fb\n",
      "['a', 'd', 'g', 'y', 'u', 'h', 'f', 'b']\n",
      "['5', '4', '6', '8', '9']\n"
     ]
    }
   ],
   "source": [
    "m=input('enter string chracter')\n",
    "x=list(m)\n",
    "i=0\n",
    "k=[]\n",
    "l=[]\n",
    "while i<len(x):\n",
    "    if x[i].isalpha():\n",
    "        k.append(x[i])\n",
    "    else:\n",
    "        l.append(x[i])\n",
    "    i=i+1\n",
    "print(k)\n",
    "print(l) "
   ]
  },
  {
   "cell_type": "code",
   "execution_count": 9,
   "id": "9de4c534",
   "metadata": {},
   "outputs": [
    {
     "ename": "SyntaxError",
     "evalue": "invalid syntax (Temp/ipykernel_14512/2600617128.py, line 1)",
     "output_type": "error",
     "traceback": [
      "\u001b[1;36m  File \u001b[1;32m\"C:\\Users\\KUMAR\\AppData\\Local\\Temp/ipykernel_14512/2600617128.py\"\u001b[1;36m, line \u001b[1;32m1\u001b[0m\n\u001b[1;33m    def continue():\u001b[0m\n\u001b[1;37m        ^\u001b[0m\n\u001b[1;31mSyntaxError\u001b[0m\u001b[1;31m:\u001b[0m invalid syntax\n"
     ]
    }
   ],
   "source": [
    "def continue():\n",
    "    resp = input(\"Continue ? Y/N \")\n",
    "    if resp == \"n\" or resp == \"N\":\n",
    "        return False\n",
    "    return True\n",
    "while True:\n",
    "    print(\"Select operation.\")\n",
    "    print(\"1.Add\")\n",
    "    print(\"2.Subtract\")\n",
    "    print(\"3.Multiply\")\n",
    "    print(\"4.Divide\")\n",
    "\n",
    "    choice = input(\"Enter choice(1/2/3/4):\")\n",
    "\n",
    "    num1 = int(input(\"Enter first number: \"))\n",
    "    num2 = int(input(\"Enter second number: \"))\n",
    "\n",
    "    if choice == '1':\n",
    "       print(num1,\"+\",num2,\"=\", (num1 + num2))\n",
    "\n",
    "    elif choice == '2':\n",
    "       print(num1,\"-\",num2,\"=\", (num1 - num2))\n",
    "\n",
    "    elif choice == '3':\n",
    "       print(num1,\"*\",num2,\"=\", (num1 * num2))\n",
    "\n",
    "    elif choice == '4':\n",
    "       print(num1,\"/\",num2,\"=\", (num1 / num2))\n",
    "\n",
    "    else:\n",
    "       print(\"Invalid input\")\n",
    "    if not continue() :\n",
    "       break"
   ]
  },
  {
   "cell_type": "code",
   "execution_count": null,
   "id": "a1609e0f",
   "metadata": {},
   "outputs": [],
   "source": []
  }
 ],
 "metadata": {
  "kernelspec": {
   "display_name": "Python 3 (ipykernel)",
   "language": "python",
   "name": "python3"
  },
  "language_info": {
   "codemirror_mode": {
    "name": "ipython",
    "version": 3
   },
   "file_extension": ".py",
   "mimetype": "text/x-python",
   "name": "python",
   "nbconvert_exporter": "python",
   "pygments_lexer": "ipython3",
   "version": "3.9.7"
  }
 },
 "nbformat": 4,
 "nbformat_minor": 5
}
